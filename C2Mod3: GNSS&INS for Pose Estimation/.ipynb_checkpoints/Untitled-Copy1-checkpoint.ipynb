{
 "cells": [
  {
   "cell_type": "code",
   "execution_count": 1,
   "metadata": {},
   "outputs": [],
   "source": [
    "import numpy as np\n",
    "from numpy.linalg import inv\n"
   ]
  },
  {
   "cell_type": "code",
   "execution_count": 9,
   "metadata": {},
   "outputs": [],
   "source": [
    "def sph_to_cart(epsilon, alpha, r):\n",
    "    \"\"\"\n",
    "    Transform sensor readings to Cartesian coordinates in the sensor\n",
    "    frame. The values of epsilon and alpha are given in radians, while \n",
    "    r is in metres.\n",
    "    \"\"\"\n",
    "    p = np.zeros(3)  # Position vector \n",
    "    # Your code here\n",
    "    p[0] = r * np.cos(alpha) * np.cos(epsilon)\n",
    "    p[1] = r * np.sin(alpha) * np.cos(epsilon)\n",
    "    p[2] = r * np.sin(epsilon)\n",
    "    return p"
   ]
  },
  {
   "cell_type": "code",
   "execution_count": 104,
   "metadata": {},
   "outputs": [],
   "source": [
    "def estimate_params(P):\n",
    "  \"\"\"\n",
    "  Estimate parameters from sensor readings in the Cartesian frame.\n",
    "  Each row in the P matrix contains a single measurement.\n",
    "  \"\"\"\n",
    "  param_est = np.zeros(3)\n",
    "  \n",
    "  # Your code here\n",
    "\n",
    "\n",
    "  A = np.hstack((np.ones((len(P),1)),P[:, :2]))\n",
    "  B = P[:, 2:]\n",
    "  param = np.dot((inv(np.dot(np.transpose(A),A))),(np.dot(np.transpose(A),B)))\n",
    "  param_est[0] = param[0,0]\n",
    "  param_est[1] = param[1,0]\n",
    "  param_est[2] = param[2,0]\n",
    "  return param_est"
   ]
  },
  {
   "cell_type": "code",
   "execution_count": 113,
   "metadata": {},
   "outputs": [
    {
     "name": "stdout",
     "output_type": "stream",
     "text": [
      "(3,)\n",
      "[3.92424105 0.69194958 0.34862297]\n"
     ]
    }
   ],
   "source": [
    "print(sph_to_cart(np.deg2rad(5),np.deg2rad(10),4))"
   ]
  },
  {
   "cell_type": "code",
   "execution_count": 115,
   "metadata": {},
   "outputs": [
    {
     "name": "stdout",
     "output_type": "stream",
     "text": [
      "[0.21808438 0.3768854  0.27364449]\n"
     ]
    }
   ],
   "source": [
    "P = np.random.rand(15,3)\n",
    "param_et = estimate_params(P)\n",
    "print(param_et)\n"
   ]
  }
 ],
 "metadata": {
  "kernelspec": {
   "display_name": "Python 3",
   "language": "python",
   "name": "python3"
  },
  "language_info": {
   "codemirror_mode": {
    "name": "ipython",
    "version": 3
   },
   "file_extension": ".py",
   "mimetype": "text/x-python",
   "name": "python",
   "nbconvert_exporter": "python",
   "pygments_lexer": "ipython3",
   "version": "3.6.8"
  }
 },
 "nbformat": 4,
 "nbformat_minor": 2
}
